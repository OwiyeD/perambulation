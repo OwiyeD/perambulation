{
 "cells": [
  {
   "cell_type": "code",
   "execution_count": 1,
   "metadata": {},
   "outputs": [],
   "source": [
    "import pandas as pd\n",
    "import numpy as np\n",
    "import matplotlib.pyplot as plt"
   ]
  },
  {
   "cell_type": "code",
   "execution_count": 10,
   "metadata": {},
   "outputs": [],
   "source": [
    "train = pd.read_csv(\"Downloads\\Train.csv\", header=0, sep=',', parse_dates=['datetime'])"
   ]
  },
  {
   "cell_type": "code",
   "execution_count": 4,
   "metadata": {},
   "outputs": [
    {
     "data": {
      "text/html": [
       "<div>\n",
       "<style scoped>\n",
       "    .dataframe tbody tr th:only-of-type {\n",
       "        vertical-align: middle;\n",
       "    }\n",
       "\n",
       "    .dataframe tbody tr th {\n",
       "        vertical-align: top;\n",
       "    }\n",
       "\n",
       "    .dataframe thead th {\n",
       "        text-align: right;\n",
       "    }\n",
       "</style>\n",
       "<table border=\"1\" class=\"dataframe\">\n",
       "  <thead>\n",
       "    <tr style=\"text-align: right;\">\n",
       "      <th></th>\n",
       "      <th>uid</th>\n",
       "      <th>datetime</th>\n",
       "      <th>latitude</th>\n",
       "      <th>longitude</th>\n",
       "    </tr>\n",
       "  </thead>\n",
       "  <tbody>\n",
       "    <tr>\n",
       "      <th>0</th>\n",
       "      <td>1</td>\n",
       "      <td>2018-01-01 00:25:46</td>\n",
       "      <td>-1.188850</td>\n",
       "      <td>36.931382</td>\n",
       "    </tr>\n",
       "    <tr>\n",
       "      <th>1</th>\n",
       "      <td>2</td>\n",
       "      <td>2018-01-01 02:02:39</td>\n",
       "      <td>-0.662939</td>\n",
       "      <td>37.208730</td>\n",
       "    </tr>\n",
       "    <tr>\n",
       "      <th>2</th>\n",
       "      <td>3</td>\n",
       "      <td>2018-01-01 02:31:49</td>\n",
       "      <td>-0.662939</td>\n",
       "      <td>37.208730</td>\n",
       "    </tr>\n",
       "    <tr>\n",
       "      <th>3</th>\n",
       "      <td>4</td>\n",
       "      <td>2018-01-01 03:04:01</td>\n",
       "      <td>-1.288087</td>\n",
       "      <td>36.826583</td>\n",
       "    </tr>\n",
       "    <tr>\n",
       "      <th>4</th>\n",
       "      <td>5</td>\n",
       "      <td>2018-01-01 03:58:49</td>\n",
       "      <td>-1.188850</td>\n",
       "      <td>36.931382</td>\n",
       "    </tr>\n",
       "    <tr>\n",
       "      <th>...</th>\n",
       "      <td>...</td>\n",
       "      <td>...</td>\n",
       "      <td>...</td>\n",
       "      <td>...</td>\n",
       "    </tr>\n",
       "    <tr>\n",
       "      <th>6313</th>\n",
       "      <td>6314</td>\n",
       "      <td>2019-06-29 18:52:44</td>\n",
       "      <td>-1.262271</td>\n",
       "      <td>36.726540</td>\n",
       "    </tr>\n",
       "    <tr>\n",
       "      <th>6314</th>\n",
       "      <td>6315</td>\n",
       "      <td>2019-06-30 09:57:44</td>\n",
       "      <td>-1.279468</td>\n",
       "      <td>36.790449</td>\n",
       "    </tr>\n",
       "    <tr>\n",
       "      <th>6315</th>\n",
       "      <td>6316</td>\n",
       "      <td>2019-06-30 12:02:14</td>\n",
       "      <td>-1.322109</td>\n",
       "      <td>36.825248</td>\n",
       "    </tr>\n",
       "    <tr>\n",
       "      <th>6316</th>\n",
       "      <td>6317</td>\n",
       "      <td>2019-06-30 16:59:14</td>\n",
       "      <td>-1.278589</td>\n",
       "      <td>36.816518</td>\n",
       "    </tr>\n",
       "    <tr>\n",
       "      <th>6317</th>\n",
       "      <td>6318</td>\n",
       "      <td>2019-06-30 20:06:14</td>\n",
       "      <td>-1.211500</td>\n",
       "      <td>36.907635</td>\n",
       "    </tr>\n",
       "  </tbody>\n",
       "</table>\n",
       "<p>6318 rows × 4 columns</p>\n",
       "</div>"
      ],
      "text/plain": [
       "       uid             datetime  latitude  longitude\n",
       "0        1  2018-01-01 00:25:46 -1.188850  36.931382\n",
       "1        2  2018-01-01 02:02:39 -0.662939  37.208730\n",
       "2        3  2018-01-01 02:31:49 -0.662939  37.208730\n",
       "3        4  2018-01-01 03:04:01 -1.288087  36.826583\n",
       "4        5  2018-01-01 03:58:49 -1.188850  36.931382\n",
       "...    ...                  ...       ...        ...\n",
       "6313  6314  2019-06-29 18:52:44 -1.262271  36.726540\n",
       "6314  6315  2019-06-30 09:57:44 -1.279468  36.790449\n",
       "6315  6316  2019-06-30 12:02:14 -1.322109  36.825248\n",
       "6316  6317  2019-06-30 16:59:14 -1.278589  36.816518\n",
       "6317  6318  2019-06-30 20:06:14 -1.211500  36.907635\n",
       "\n",
       "[6318 rows x 4 columns]"
      ]
     },
     "execution_count": 4,
     "metadata": {},
     "output_type": "execute_result"
    }
   ],
   "source": [
    "train"
   ]
  },
  {
   "cell_type": "code",
   "execution_count": 5,
   "metadata": {},
   "outputs": [
    {
     "data": {
      "text/plain": [
       "uid          0\n",
       "datetime     0\n",
       "latitude     0\n",
       "longitude    0\n",
       "dtype: int64"
      ]
     },
     "execution_count": 5,
     "metadata": {},
     "output_type": "execute_result"
    }
   ],
   "source": [
    "train.isna().sum()"
   ]
  },
  {
   "cell_type": "code",
   "execution_count": 7,
   "metadata": {},
   "outputs": [],
   "source": [
    "weather = pd.read_csv('Downloads/weather_Nairobi_Daily_GFS.csv', header=0, sep=',')"
   ]
  },
  {
   "cell_type": "code",
   "execution_count": 8,
   "metadata": {},
   "outputs": [
    {
     "data": {
      "text/html": [
       "<div>\n",
       "<style scoped>\n",
       "    .dataframe tbody tr th:only-of-type {\n",
       "        vertical-align: middle;\n",
       "    }\n",
       "\n",
       "    .dataframe tbody tr th {\n",
       "        vertical-align: top;\n",
       "    }\n",
       "\n",
       "    .dataframe thead th {\n",
       "        text-align: right;\n",
       "    }\n",
       "</style>\n",
       "<table border=\"1\" class=\"dataframe\">\n",
       "  <thead>\n",
       "    <tr style=\"text-align: right;\">\n",
       "      <th></th>\n",
       "      <th>Date</th>\n",
       "      <th>precipitable_water_entire_atmosphere</th>\n",
       "      <th>relative_humidity_2m_above_ground</th>\n",
       "      <th>specific_humidity_2m_above_ground</th>\n",
       "      <th>temperature_2m_above_ground</th>\n",
       "      <th>u_component_of_wind_10m_above_ground</th>\n",
       "      <th>v_component_of_wind_10m_above_ground</th>\n",
       "    </tr>\n",
       "  </thead>\n",
       "  <tbody>\n",
       "    <tr>\n",
       "      <th>0</th>\n",
       "      <td>2018-01-01</td>\n",
       "      <td>24.100000</td>\n",
       "      <td>72.700005</td>\n",
       "      <td>0.009560</td>\n",
       "      <td>15.161493</td>\n",
       "      <td>-0.012186</td>\n",
       "      <td>-0.933914</td>\n",
       "    </tr>\n",
       "    <tr>\n",
       "      <th>1</th>\n",
       "      <td>2018-01-02</td>\n",
       "      <td>27.362288</td>\n",
       "      <td>74.900002</td>\n",
       "      <td>0.010463</td>\n",
       "      <td>16.047998</td>\n",
       "      <td>0.314543</td>\n",
       "      <td>-0.485459</td>\n",
       "    </tr>\n",
       "    <tr>\n",
       "      <th>2</th>\n",
       "      <td>2018-01-03</td>\n",
       "      <td>30.246618</td>\n",
       "      <td>86.599998</td>\n",
       "      <td>0.011930</td>\n",
       "      <td>15.838525</td>\n",
       "      <td>-0.282732</td>\n",
       "      <td>-0.653965</td>\n",
       "    </tr>\n",
       "    <tr>\n",
       "      <th>3</th>\n",
       "      <td>2018-01-04</td>\n",
       "      <td>33.010689</td>\n",
       "      <td>90.900002</td>\n",
       "      <td>0.012780</td>\n",
       "      <td>16.169244</td>\n",
       "      <td>0.211572</td>\n",
       "      <td>0.908123</td>\n",
       "    </tr>\n",
       "    <tr>\n",
       "      <th>4</th>\n",
       "      <td>2018-01-05</td>\n",
       "      <td>27.250372</td>\n",
       "      <td>82.413353</td>\n",
       "      <td>0.011392</td>\n",
       "      <td>15.923456</td>\n",
       "      <td>1.047275</td>\n",
       "      <td>-0.037742</td>\n",
       "    </tr>\n",
       "    <tr>\n",
       "      <th>...</th>\n",
       "      <td>...</td>\n",
       "      <td>...</td>\n",
       "      <td>...</td>\n",
       "      <td>...</td>\n",
       "      <td>...</td>\n",
       "      <td>...</td>\n",
       "      <td>...</td>\n",
       "    </tr>\n",
       "    <tr>\n",
       "      <th>726</th>\n",
       "      <td>2019-12-28</td>\n",
       "      <td>31.020416</td>\n",
       "      <td>87.099998</td>\n",
       "      <td>0.012772</td>\n",
       "      <td>16.854364</td>\n",
       "      <td>-0.930054</td>\n",
       "      <td>-1.511265</td>\n",
       "    </tr>\n",
       "    <tr>\n",
       "      <th>727</th>\n",
       "      <td>2019-12-29</td>\n",
       "      <td>28.900000</td>\n",
       "      <td>88.900002</td>\n",
       "      <td>0.012430</td>\n",
       "      <td>16.086237</td>\n",
       "      <td>-0.884575</td>\n",
       "      <td>-0.639897</td>\n",
       "    </tr>\n",
       "    <tr>\n",
       "      <th>728</th>\n",
       "      <td>2019-12-30</td>\n",
       "      <td>21.600000</td>\n",
       "      <td>89.300003</td>\n",
       "      <td>0.012130</td>\n",
       "      <td>15.670770</td>\n",
       "      <td>-2.423813</td>\n",
       "      <td>-1.155928</td>\n",
       "    </tr>\n",
       "    <tr>\n",
       "      <th>729</th>\n",
       "      <td>2019-12-31</td>\n",
       "      <td>16.500000</td>\n",
       "      <td>85.000000</td>\n",
       "      <td>0.010974</td>\n",
       "      <td>14.947778</td>\n",
       "      <td>-1.415813</td>\n",
       "      <td>-2.028264</td>\n",
       "    </tr>\n",
       "    <tr>\n",
       "      <th>730</th>\n",
       "      <td>2020-01-01</td>\n",
       "      <td>15.900001</td>\n",
       "      <td>84.500000</td>\n",
       "      <td>0.010860</td>\n",
       "      <td>14.866235</td>\n",
       "      <td>-1.509448</td>\n",
       "      <td>-2.272683</td>\n",
       "    </tr>\n",
       "  </tbody>\n",
       "</table>\n",
       "<p>731 rows × 7 columns</p>\n",
       "</div>"
      ],
      "text/plain": [
       "           Date  precipitable_water_entire_atmosphere  \\\n",
       "0    2018-01-01                             24.100000   \n",
       "1    2018-01-02                             27.362288   \n",
       "2    2018-01-03                             30.246618   \n",
       "3    2018-01-04                             33.010689   \n",
       "4    2018-01-05                             27.250372   \n",
       "..          ...                                   ...   \n",
       "726  2019-12-28                             31.020416   \n",
       "727  2019-12-29                             28.900000   \n",
       "728  2019-12-30                             21.600000   \n",
       "729  2019-12-31                             16.500000   \n",
       "730  2020-01-01                             15.900001   \n",
       "\n",
       "     relative_humidity_2m_above_ground  specific_humidity_2m_above_ground  \\\n",
       "0                            72.700005                           0.009560   \n",
       "1                            74.900002                           0.010463   \n",
       "2                            86.599998                           0.011930   \n",
       "3                            90.900002                           0.012780   \n",
       "4                            82.413353                           0.011392   \n",
       "..                                 ...                                ...   \n",
       "726                          87.099998                           0.012772   \n",
       "727                          88.900002                           0.012430   \n",
       "728                          89.300003                           0.012130   \n",
       "729                          85.000000                           0.010974   \n",
       "730                          84.500000                           0.010860   \n",
       "\n",
       "     temperature_2m_above_ground  u_component_of_wind_10m_above_ground  \\\n",
       "0                      15.161493                             -0.012186   \n",
       "1                      16.047998                              0.314543   \n",
       "2                      15.838525                             -0.282732   \n",
       "3                      16.169244                              0.211572   \n",
       "4                      15.923456                              1.047275   \n",
       "..                           ...                                   ...   \n",
       "726                    16.854364                             -0.930054   \n",
       "727                    16.086237                             -0.884575   \n",
       "728                    15.670770                             -2.423813   \n",
       "729                    14.947778                             -1.415813   \n",
       "730                    14.866235                             -1.509448   \n",
       "\n",
       "     v_component_of_wind_10m_above_ground  \n",
       "0                               -0.933914  \n",
       "1                               -0.485459  \n",
       "2                               -0.653965  \n",
       "3                                0.908123  \n",
       "4                               -0.037742  \n",
       "..                                    ...  \n",
       "726                             -1.511265  \n",
       "727                             -0.639897  \n",
       "728                             -1.155928  \n",
       "729                             -2.028264  \n",
       "730                             -2.272683  \n",
       "\n",
       "[731 rows x 7 columns]"
      ]
     },
     "execution_count": 8,
     "metadata": {},
     "output_type": "execute_result"
    }
   ],
   "source": [
    "weather"
   ]
  },
  {
   "cell_type": "code",
   "execution_count": 9,
   "metadata": {},
   "outputs": [
    {
     "data": {
      "text/plain": [
       "Date                                    0\n",
       "precipitable_water_entire_atmosphere    3\n",
       "relative_humidity_2m_above_ground       3\n",
       "specific_humidity_2m_above_ground       3\n",
       "temperature_2m_above_ground             3\n",
       "u_component_of_wind_10m_above_ground    3\n",
       "v_component_of_wind_10m_above_ground    3\n",
       "dtype: int64"
      ]
     },
     "execution_count": 9,
     "metadata": {},
     "output_type": "execute_result"
    }
   ],
   "source": [
    "weather.isna().sum()"
   ]
  },
  {
   "cell_type": "code",
   "execution_count": 13,
   "metadata": {},
   "outputs": [],
   "source": [
    "SEED = 42\n",
    "np.random.seed(SEED)\n"
   ]
  },
  {
   "cell_type": "code",
   "execution_count": 14,
   "metadata": {},
   "outputs": [],
   "source": [
    "ambulance_loc = np.random.randn(6,2)*0.04"
   ]
  },
  {
   "cell_type": "code",
   "execution_count": 15,
   "metadata": {},
   "outputs": [
    {
     "data": {
      "text/plain": [
       "array([[ 0.01986857, -0.00553057],\n",
       "       [ 0.02590754,  0.06092119],\n",
       "       [-0.00936613, -0.00936548],\n",
       "       [ 0.06316851,  0.03069739],\n",
       "       [-0.01877898,  0.0217024 ],\n",
       "       [-0.01853671, -0.01862919]])"
      ]
     },
     "execution_count": 15,
     "metadata": {},
     "output_type": "execute_result"
    }
   ],
   "source": [
    "ambulance_loc"
   ]
  },
  {
   "cell_type": "code",
   "execution_count": 17,
   "metadata": {},
   "outputs": [],
   "source": [
    "origin_pos = np.array([-1.27, 36.85])\n",
    "ambulance = ambulance_loc * origin_pos"
   ]
  },
  {
   "cell_type": "code",
   "execution_count": 18,
   "metadata": {},
   "outputs": [
    {
     "data": {
      "text/plain": [
       "array([[-0.02523308, -0.20380158],\n",
       "       [-0.03290258,  2.24494601],\n",
       "       [ 0.01189499, -0.34511787],\n",
       "       [-0.08022401,  1.13119879],\n",
       "       [ 0.0238493 ,  0.7997335 ],\n",
       "       [ 0.02354162, -0.68648566]])"
      ]
     },
     "execution_count": 18,
     "metadata": {},
     "output_type": "execute_result"
    }
   ],
   "source": [
    "ambulance"
   ]
  },
  {
   "cell_type": "code",
   "execution_count": 19,
   "metadata": {},
   "outputs": [
    {
     "ename": "AttributeError",
     "evalue": "'numpy.ndarray' object has no attribute 'length'",
     "output_type": "error",
     "traceback": [
      "\u001b[1;31m---------------------------------------------------------------------------\u001b[0m",
      "\u001b[1;31mAttributeError\u001b[0m                            Traceback (most recent call last)",
      "\u001b[1;32m<ipython-input-19-ce6d3e2ff8a7>\u001b[0m in \u001b[0;36m<module>\u001b[1;34m\u001b[0m\n\u001b[0;32m      2\u001b[0m kmeans = KMeans(\n\u001b[0;32m      3\u001b[0m \u001b[0minit\u001b[0m \u001b[1;33m=\u001b[0m \u001b[1;34m'random'\u001b[0m\u001b[1;33m,\u001b[0m\u001b[1;33m\u001b[0m\u001b[1;33m\u001b[0m\u001b[0m\n\u001b[1;32m----> 4\u001b[1;33m \u001b[0mn_clusters\u001b[0m\u001b[1;33m=\u001b[0m\u001b[0mambulance\u001b[0m\u001b[1;33m.\u001b[0m\u001b[0mlength\u001b[0m\u001b[1;33m,\u001b[0m\u001b[1;33m\u001b[0m\u001b[1;33m\u001b[0m\u001b[0m\n\u001b[0m\u001b[0;32m      5\u001b[0m \u001b[0mn_init\u001b[0m\u001b[1;33m=\u001b[0m\u001b[1;36m10\u001b[0m\u001b[1;33m,\u001b[0m\u001b[1;33m\u001b[0m\u001b[1;33m\u001b[0m\u001b[0m\n\u001b[0;32m      6\u001b[0m \u001b[0mmax_iter\u001b[0m\u001b[1;33m=\u001b[0m\u001b[1;36m300\u001b[0m\u001b[1;33m,\u001b[0m\u001b[1;33m\u001b[0m\u001b[1;33m\u001b[0m\u001b[0m\n",
      "\u001b[1;31mAttributeError\u001b[0m: 'numpy.ndarray' object has no attribute 'length'"
     ]
    }
   ],
   "source": [
    "from sklearn.cluster import KMeans\n",
    "kmeans = KMeans(\n",
    "init = 'random',\n",
    "n_clusters=ambulance.length,\n",
    "n_init=10,\n",
    "max_iter=300,\n",
    "random_state=42\n",
    ")\n",
    "kmeans.fit(ambulance)"
   ]
  },
  {
   "cell_type": "code",
   "execution_count": 20,
   "metadata": {},
   "outputs": [],
   "source": [
    "accident_sites = (train[['latitude', 'longitude']].values)"
   ]
  },
  {
   "cell_type": "code",
   "execution_count": 25,
   "metadata": {},
   "outputs": [],
   "source": [
    "import math\n",
    "def distance_diff(accident_sites, ambulance):\n",
    "    #\n",
    "    dists_diff = accident_sites - ambulance[0]\n",
    "    distances = (dists_diff[:,0]**2 + dists_diff[:,1]**2)**0.5\n",
    "    minimum_dists = distances\n",
    "    for i in range(1,6):\n",
    "        #find shortest distance to the nearest ambulance\n",
    "        dists_diff = accident_sites - ambulance[i]\n",
    "        distances = (dists_diff[:,0]**2 + dists_diff[:,1]**2)**0.5\n",
    "        \n",
    "        min_distances = min(distances)\n",
    "\n",
    "    return min_distances.mean()"
   ]
  },
  {
   "cell_type": "code",
   "execution_count": 26,
   "metadata": {},
   "outputs": [
    {
     "data": {
      "text/plain": [
       "37.034284243572515"
      ]
     },
     "execution_count": 26,
     "metadata": {},
     "output_type": "execute_result"
    }
   ],
   "source": [
    "distance_diff(accident_sites, ambulance)"
   ]
  },
  {
   "cell_type": "code",
   "execution_count": null,
   "metadata": {},
   "outputs": [],
   "source": []
  }
 ],
 "metadata": {
  "kernelspec": {
   "display_name": "Python 3",
   "language": "python",
   "name": "python3"
  },
  "language_info": {
   "codemirror_mode": {
    "name": "ipython",
    "version": 3
   },
   "file_extension": ".py",
   "mimetype": "text/x-python",
   "name": "python",
   "nbconvert_exporter": "python",
   "pygments_lexer": "ipython3",
   "version": "3.7.4"
  }
 },
 "nbformat": 4,
 "nbformat_minor": 4
}
